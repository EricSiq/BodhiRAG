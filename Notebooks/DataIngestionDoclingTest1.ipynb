{
  "cells": [
    {
      "cell_type": "markdown",
      "metadata": {
        "id": "view-in-github",
        "colab_type": "text"
      },
      "source": [
        "<a href=\"https://colab.research.google.com/github/EricSiq/NASA-Space-Apps-Challenge/blob/main/Notebooks/DataIngestionDoclingTest1.ipynb\" target=\"_parent\"><img src=\"https://colab.research.google.com/assets/colab-badge.svg\" alt=\"Open In Colab\"/></a>"
      ]
    },
    {
      "cell_type": "markdown",
      "source": [
        "This is an excellent first step in your project\\! Yes, it is **absolutely possible** and is the correct workflow to prepare your data for **Docling**.\n",
        "\n",
        "You must first extract the links and their titles from the CSV because **Docling** (or any document loader) requires the specific file path or URL for each document it processes.\n",
        "\n",
        "## Best Code Approach: Extract and Prepare\n",
        "\n",
        "The best approach is to use the `pandas` library to load the CSV, extract the necessary columns, and structure the data into a list of tuples or a list of dictionaries, which is a perfect input format for your subsequent processing loop with Docling.\n",
        "\n",
        "### Python Code for Extraction\n",
        "\n",
        "This code will load your CSV and generate a clean list of (Title, Link) pairs, filtering for the valid PMC links."
      ],
      "metadata": {
        "id": "t5yWmV-1A_Sd"
      }
    },
    {
      "cell_type": "code",
      "source": [
        "import pandas as pd\n",
        "import csv\n",
        "\n",
        "def extract_publication_data(file_name):\n",
        "    \"\"\"\n",
        "    Loads the CSV, extracts the Title and Link columns, and prepares a\n",
        "    list of (title, link) tuples for processing.\n",
        "    \"\"\"\n",
        "    try:\n",
        "        # Load the CSV file\n",
        "        df = pd.read_csv(file_name, quoting=csv.QUOTE_MINIMAL)\n",
        "\n",
        "        # Assuming the columns are named 'Title' and 'Link'\n",
        "        # Filter for links that start with the expected base URL for PMC articles\n",
        "        base_url_prefix = \"https://www.ncbi.nlm.nih.gov/pmc/articles/\"\n",
        "        df_filtered = df[df['Link'].str.startswith(base_url_prefix, na=False)].copy()\n",
        "\n",
        "        # Create a list of tuples (Title, Link)\n",
        "        publication_list = list(zip(df_filtered['Title'], df_filtered['Link']))\n",
        "\n",
        "        return publication_list\n",
        "\n",
        "    except Exception as e:\n",
        "        print(f\"An error occurred during file processing: {e}\")\n",
        "        return []\n",
        "\n",
        "# File name provided in the user context\n",
        "file_name = \"SB_publication_PMC.csv\"\n",
        "\n",
        "# Run the extraction\n",
        "publication_data = extract_publication_data(file_name)\n",
        "\n",
        "# Print a sample of the extracted data for verification\n",
        "if publication_data:\n",
        "    print(f\"Total publications extracted: {len(publication_data)}\")\n",
        "    print(\"Sample of extracted (Title, Link) pairs:\")\n",
        "    for i in range(min(5, len(publication_data))):\n",
        "        print(f\"  {i+1}. Title: {publication_data[i][0][:60]}... | Link: {publication_data[i][1]}\")\n",
        "else:\n",
        "    print(\"No publication data was extracted.\")"
      ],
      "outputs": [],
      "execution_count": null,
      "metadata": {
        "id": "e3HxyjymA_Sg"
      }
    },
    {
      "cell_type": "markdown",
      "source": [
        "-----\n",
        "\n",
        "## Next Step: Docling Integration Workflow\n",
        "\n",
        "Once the above code provides the `publication_data` list, you will use it in the next step to perform the actual ingestion and structural parsing using $\\text{Docling}$.\n",
        "\n",
        "1.  **Iterate:** Loop through the `publication_data` list.\n",
        "2.  **Docling Call:** Inside the loop, initialize the $\\text{DoclingLoader}$ using the **URL** from the list. Docling is capable of loading directly from a URL.\n",
        "3.  **Process:** Use the `load()` or `lazy_load()` method to fetch and process the document.\n",
        "4.  **Extract & Store:** Immediately process the structured $\\text{Docling}$ output to perform your **NER/RE** and populate the **Knowledge Graph** and **Vector Store**.\n",
        "\n",
        "### Conceptual Docling Integration (Python)\n",
        "\n",
        "This snippet illustrates how the extraction output feeds into $\\text{Docling}$ for processing:"
      ],
      "metadata": {
        "id": "DeIscsTtA_Si"
      }
    },
    {
      "cell_type": "code",
      "source": [
        "# Assuming you successfully ran the extraction code above and have the 'publication_data' list\n",
        "\n",
        "# --- Conceptual Code for Docling Ingestion (Requires Docling and LangChain setup) ---\n",
        "\n",
        "# from langchain_docling import DoclingLoader\n",
        "# from docling.chunking import HybridChunker\n",
        "# from docling_project.docling import ExportType\n",
        "\n",
        "# processed_documents = []\n",
        "\n",
        "# for title, url in publication_data:\n",
        "#     try:\n",
        "#         # 1. Initialize DoclingLoader with the URL\n",
        "#         loader = DoclingLoader(\n",
        "#             file_path=url,\n",
        "#             chunker=HybridChunker(),\n",
        "#             export_type=ExportType.MARKDOWN\n",
        "#         )\n",
        "\n",
        "#         # 2. Load the structured document\n",
        "#         docs = loader.load()\n",
        "\n",
        "#         # 3. Add original metadata (Title) to each chunk and store\n",
        "#         for doc in docs:\n",
        "#             doc.metadata['original_title'] = title\n",
        "#             processed_documents.append(doc)\n",
        "\n",
        "#         # 4. NOW: Run NER/RE and KG population on the 'docs' list\n",
        "\n",
        "#     except Exception as e:\n",
        "#         print(f\"Failed to process document: {title} at {url}. Error: {e}\")\n",
        "\n",
        "# # The 'processed_documents' list is now ready for your Knowledge Graph pipeline."
      ],
      "outputs": [],
      "execution_count": null,
      "metadata": {
        "id": "KEI9xb0rA_Sj"
      }
    },
    {
      "cell_type": "markdown",
      "source": [
        "The approach is to **Extract $\\rightarrow$ Transform $\\rightarrow$ Load** (ETL), where $\\text{Docling}$ handles the critical **Transform** step by converting the messy PDF structure into clean, semantically-rich text (like Markdown) before the downstream AI work begins."
      ],
      "metadata": {
        "id": "RDswaQDnA_Sj"
      }
    }
  ],
  "metadata": {
    "colab": {
      "provenance": [],
      "include_colab_link": true
    },
    "kernelspec": {
      "display_name": "Python 3",
      "name": "python3"
    }
  },
  "nbformat": 4,
  "nbformat_minor": 0
}