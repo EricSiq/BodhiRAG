{
  "cells": [
    {
      "cell_type": "markdown",
      "metadata": {
        "id": "view-in-github",
        "colab_type": "text"
      },
      "source": [
        "<a href=\"https://colab.research.google.com/github/EricSiq/NASA-Space-Apps-Challenge/blob/main/Notebooks/DataIngestionDoclingTest2.ipynb\" target=\"_parent\"><img src=\"https://colab.research.google.com/assets/colab-badge.svg\" alt=\"Open In Colab\"/></a>"
      ]
    },
    {
      "cell_type": "code",
      "metadata": {
        "id": "a78e193d"
      },
      "source": [
        "%pip install langchain_docling docling -q"
      ],
      "execution_count": 7,
      "outputs": []
    },
    {
      "cell_type": "markdown",
      "source": [
        "\n",
        "## Best Code Approach: Extract and Prepare\n",
        "\n",
        "The best approach is to use the `pandas` library to load the CSV, extract the necessary columns, and structure the data into a list of tuples or a list of dictionaries, which is a perfect input format for your subsequent processing loop with Docling.\n",
        "\n",
        "### Python Code for Extraction\n",
        "\n",
        "This code will load your CSV and generate a clean list of (Title, Link) pairs, filtering for the valid PMC links."
      ],
      "metadata": {
        "id": "t5yWmV-1A_Sd"
      }
    },
    {
      "cell_type": "code",
      "source": [
        "import pandas as pd\n",
        "import csv\n",
        "import os\n",
        "import time\n",
        "from typing import List, Tuple, Dict, Any\n",
        "\n",
        "# Import necessary classes from Docling and its LangChain integration\n",
        "# Docling's specific classes for chunking and export types\n",
        "from docling.chunking import HybridChunker\n",
        "from langchain_docling.loader import DoclingLoader, ExportType\n",
        "from langchain_core.documents import Document\n"
      ],
      "metadata": {
        "id": "eSeLIRsTrAh9"
      },
      "execution_count": 8,
      "outputs": []
    },
    {
      "cell_type": "code",
      "source": [
        "\n",
        "# Function to Extract Data from CSV\n",
        "def extract_publication_data(file_name: str) -> List[Tuple[str, str]]:\n",
        "    \"\"\"\n",
        "    Loads the CSV, extracts the Title and Link columns, and filters for valid PMC URLs.\n",
        "    \"\"\"\n",
        "    try:\n",
        "        # Load the CSV file\n",
        "        df = pd.read_csv(file_name, quoting=csv.QUOTE_MINIMAL)\n",
        "\n",
        "        # Assuming the columns are named 'Title' and 'Link'\n",
        "        base_url_prefix = \"https://www.ncbi.nlm.nih.gov/pmc/articles/\"\n",
        "\n",
        "        # 1. Filter: Ensure we only keep valid links for PMC articles\n",
        "        df_filtered = df[df['Link'].astype(str).str.startswith(base_url_prefix, na=False)].copy()\n",
        "\n",
        "        # 2. Select: Create a list of tuples (Title, Link)\n",
        "        publication_list = list(zip(df_filtered['Title'], df_filtered['Link']))\n",
        "\n",
        "        print(f\"Extracted {len(publication_list)} valid PMC links from the CSV.\")\n",
        "        return publication_list\n",
        "\n",
        "    except Exception as e:\n",
        "        print(f\"ERROR: An error occurred during CSV extraction: {e}\")\n",
        "        return []"
      ],
      "outputs": [],
      "execution_count": 9,
      "metadata": {
        "id": "e3HxyjymA_Sg"
      }
    },
    {
      "cell_type": "markdown",
      "source": [
        "-----\n",
        "\n",
        "## Next Step: Docling Integration Workflow\n",
        "\n",
        "Once the above code provides the `publication_data` list, you will use it in the next step to perform the actual ingestion and structural parsing using $\\text{Docling}$.\n",
        "\n",
        "1.  **Iterate:** Loop through the `publication_data` list.\n",
        "2.  **Docling Call:** Inside the loop, initialize the $\\text{DoclingLoader}$ using the **URL** from the list. Docling is capable of loading directly from a URL.\n",
        "3.  **Process:** Use the `load()` or `lazy_load()` method to fetch and process the document.\n",
        "4.  **Extract & Store:** Immediately process the structured $\\text{Docling}$ output to perform your **NER/RE** and populate the **Knowledge Graph** and **Vector Store**.\n",
        "\n",
        "### Conceptual Docling Integration (Python)\n",
        "\n",
        "This snippet illustrates how the extraction output feeds into $\\text{Docling}$ for processing:"
      ],
      "metadata": {
        "id": "DeIscsTtA_Si"
      }
    },
    {
      "cell_type": "markdown",
      "metadata": {
        "id": "0a330b8f"
      },
      "source": [
        "After running the installation cell above, please execute the cell below again."
      ]
    },
    {
      "cell_type": "code",
      "source": [
        "\n",
        "\n",
        "# Function to Ingest Data using Docling\n",
        "def ingest_documents_with_docling(publication_data: List[Tuple[str, str]]) -> List[Document]:\n",
        "    \"\"\"\n",
        "    Iterates through the list of (title, url) and uses Docling to fetch and process\n",
        "    each document, preserving structural information in Markdown format.\n",
        "    \"\"\"\n",
        "    if not publication_data:\n",
        "        print(\"No data to process. Exiting ingestion.\")\n",
        "        return []\n",
        "\n",
        "    processed_documents: List[Document] = []\n",
        "\n",
        "    # (Explicitly define chunk size for better granularity):\n",
        "\n",
        "    from docling.chunking import HybridChunker\n",
        "    # Set a target chunk size (e.g., 2000 tokens) with a generous overlap\n",
        "    # to ensure context isn't lost across splits.\n",
        "    chunker = HybridChunker(\n",
        "        max_chunk_size=2000,\n",
        "        chunk_overlap=200\n",
        "    )\n",
        "\n",
        "    # You may also want to experiment with Docling's `SectionChunker`\n",
        "    # if you want to strictly enforce splits by Introduction, Results, etc.\n",
        "    # from docling.chunking import SectionChunker\n",
        "    # chunker = SectionChunker()\n",
        "\n",
        "\n",
        "\n",
        "\n",
        "\n",
        "\n",
        "    # We will only process a small sample for demonstration/testing due to processing time.\n",
        "    # For full production run, remove the slicing [0:5]\n",
        "    sample_data = publication_data[0:5]\n",
        "\n",
        "\n",
        "\n",
        "\n",
        "\n",
        "\n",
        "    print(f\"\\nProcessing a sample of {len(sample_data)} documents using Docling...\")\n",
        "\n",
        "    for i, (title, url) in enumerate(sample_data):\n",
        "        start_time = time.time()\n",
        "        print(f\"--- Document {i+1}/{len(sample_data)}: {title[:50]}...\")\n",
        "\n",
        "        try:\n",
        "            # 1. Initialize DoclingLoader with the URL\n",
        "            # Docling handles fetching the content from the web\n",
        "            loader = DoclingLoader(\n",
        "                file_path=url,\n",
        "                chunker=chunker,\n",
        "                # Export as Markdown to preserve semantic structure (headings, tables)\n",
        "                export_type=ExportType.MARKDOWN\n",
        "            )\n",
        "\n",
        "            # 2. Load the structured document. The result is a list of Document chunks.\n",
        "            docs = loader.load()\n",
        "\n",
        "            # 3. Add custom metadata (Title, Source URL) to each chunk\n",
        "            for doc in docs:\n",
        "                doc.metadata['original_title'] = title\n",
        "                doc.metadata['source_url'] = url\n",
        "                # Add a unique ID for traceability in the Knowledge Graph\n",
        "                doc.metadata['doc_id'] = f\"PMC_{url.split('/')[-2]}\"\n",
        "                processed_documents.append(doc)\n",
        "\n",
        "            end_time = time.time()\n",
        "            print(f\"    Processed {len(docs)} chunks. Time: {end_time - start_time:.2f}s\")\n",
        "            # This is where you would call your NER/RE and KG population functions\n",
        "            # process_for_knowledge_graph(docs)\n",
        "\n",
        "        except Exception as e:\n",
        "            print(f\"    FAILED to process document. Error: {e}\")\n",
        "\n",
        "    return processed_documents\n"
      ],
      "metadata": {
        "id": "nC4g8C_QrLZi"
      },
      "execution_count": 12,
      "outputs": []
    },
    {
      "cell_type": "markdown",
      "source": [
        "The approach is to **Extract $\\rightarrow$ Transform $\\rightarrow$ Load** (ETL), where $\\text{Docling}$ handles the critical **Transform** step by converting the messy PDF structure into clean, semantically-rich text (like Markdown) before the downstream AI work begins."
      ],
      "metadata": {
        "id": "RDswaQDnA_Sj"
      }
    },
    {
      "cell_type": "code",
      "source": [
        "\n",
        "# Main Execution\n",
        "if __name__ == \"__main__\":\n",
        "    #  Phase 1: Extraction\n",
        "    file_name = \"SB_publication_PMC.csv\"\n",
        "    publication_data = extract_publication_data(file_name)\n",
        "\n",
        "    #  Phase 2: Ingestion and Structural Parsing\n",
        "    if publication_data:\n",
        "        final_document_chunks = ingest_documents_with_docling(publication_data)\n",
        "\n",
        "        # Verification of the processed chunks\n",
        "        if final_document_chunks:\n",
        "            print(\"\\n--- Verification ---\")\n",
        "            print(f\"Total structured chunks ready for KG/Vector Store: {len(final_document_chunks)}\")\n",
        "\n",
        "            # Show a sample chunk content and metadata\n",
        "            sample_chunk = final_document_chunks[0]\n",
        "            print(f\"\\nSample Chunk Content (First 200 chars): \\n{sample_chunk.page_content[:200]}...\")\n",
        "            print(\"\\nSample Chunk Metadata:\")\n",
        "            print(sample_chunk.metadata)"
      ],
      "metadata": {
        "colab": {
          "base_uri": "https://localhost:8080/"
        },
        "id": "m5l_t1krFYSV",
        "outputId": "0e9e020b-dd5e-4e24-a10d-74a9126d5451"
      },
      "execution_count": 13,
      "outputs": [
        {
          "output_type": "stream",
          "name": "stdout",
          "text": [
            "Extracted 607 valid PMC links from the CSV.\n",
            "\n",
            "Processing a sample of 5 documents using Docling...\n",
            "--- Document 1/5: Mice in Bion-M 1 space mission: training and selec...\n",
            "    Processed 1 chunks. Time: 0.62s\n",
            "--- Document 2/5: Microgravity induces pelvic bone loss through oste...\n",
            "    Processed 1 chunks. Time: 0.76s\n",
            "--- Document 3/5: Stem Cell Health and Tissue Regeneration in Microg...\n",
            "    Processed 1 chunks. Time: 1.49s\n",
            "--- Document 4/5: Microgravity Reduces the Differentiation and Regen...\n"
          ]
        },
        {
          "output_type": "stream",
          "name": "stderr",
          "text": [
            "WARNING:docling.backend.html_backend:Clashing formatting: 'bold=True italic=False underline=False strikethrough=False script=<Script.BASELINE: 'baseline'>' and 'bold=False italic=True underline=False strikethrough=False script=<Script.BASELINE: 'baseline'>'! Chose 'bold=False italic=True underline=False strikethrough=False script=<Script.BASELINE: 'baseline'>'\n",
            "WARNING:docling.backend.html_backend:Clashing formatting: 'bold=True italic=False underline=False strikethrough=False script=<Script.BASELINE: 'baseline'>' and 'bold=False italic=True underline=False strikethrough=False script=<Script.BASELINE: 'baseline'>'! Chose 'bold=False italic=True underline=False strikethrough=False script=<Script.BASELINE: 'baseline'>'\n",
            "WARNING:docling.backend.html_backend:Clashing formatting: 'bold=True italic=False underline=False strikethrough=False script=<Script.BASELINE: 'baseline'>' and 'bold=False italic=True underline=False strikethrough=False script=<Script.BASELINE: 'baseline'>'! Chose 'bold=False italic=True underline=False strikethrough=False script=<Script.BASELINE: 'baseline'>'\n",
            "WARNING:docling.backend.html_backend:Clashing formatting: 'bold=False italic=True underline=False strikethrough=False script=<Script.BASELINE: 'baseline'>' and 'bold=True italic=False underline=False strikethrough=False script=<Script.BASELINE: 'baseline'>'! Chose 'bold=True italic=False underline=False strikethrough=False script=<Script.BASELINE: 'baseline'>'\n",
            "WARNING:docling.backend.html_backend:Clashing formatting: 'bold=True italic=False underline=False strikethrough=False script=<Script.BASELINE: 'baseline'>' and 'bold=False italic=True underline=False strikethrough=False script=<Script.BASELINE: 'baseline'>'! Chose 'bold=False italic=True underline=False strikethrough=False script=<Script.BASELINE: 'baseline'>'\n",
            "WARNING:docling.backend.html_backend:Clashing formatting: 'bold=True italic=False underline=False strikethrough=False script=<Script.BASELINE: 'baseline'>' and 'bold=False italic=True underline=False strikethrough=False script=<Script.BASELINE: 'baseline'>'! Chose 'bold=False italic=True underline=False strikethrough=False script=<Script.BASELINE: 'baseline'>'\n",
            "WARNING:docling.backend.html_backend:Clashing formatting: 'bold=True italic=False underline=False strikethrough=False script=<Script.BASELINE: 'baseline'>' and 'bold=False italic=True underline=False strikethrough=False script=<Script.BASELINE: 'baseline'>'! Chose 'bold=False italic=True underline=False strikethrough=False script=<Script.BASELINE: 'baseline'>'\n",
            "WARNING:docling.backend.html_backend:Clashing formatting: 'bold=True italic=False underline=False strikethrough=False script=<Script.BASELINE: 'baseline'>' and 'bold=False italic=False underline=False strikethrough=False script=<Script.SUPER: 'super'>'! Chose 'bold=False italic=False underline=False strikethrough=False script=<Script.SUPER: 'super'>'\n",
            "WARNING:docling.backend.html_backend:Clashing formatting: 'bold=True italic=False underline=False strikethrough=False script=<Script.BASELINE: 'baseline'>' and 'bold=False italic=False underline=False strikethrough=False script=<Script.SUPER: 'super'>'! Chose 'bold=False italic=False underline=False strikethrough=False script=<Script.SUPER: 'super'>'\n",
            "WARNING:docling.backend.html_backend:Clashing formatting: 'bold=False italic=True underline=False strikethrough=False script=<Script.BASELINE: 'baseline'>' and 'bold=False italic=False underline=False strikethrough=False script=<Script.SUPER: 'super'>'! Chose 'bold=False italic=False underline=False strikethrough=False script=<Script.SUPER: 'super'>'\n",
            "WARNING:docling.backend.html_backend:Clashing formatting: 'bold=False italic=True underline=False strikethrough=False script=<Script.BASELINE: 'baseline'>' and 'bold=False italic=False underline=False strikethrough=False script=<Script.SUPER: 'super'>'! Chose 'bold=False italic=False underline=False strikethrough=False script=<Script.SUPER: 'super'>'\n",
            "WARNING:docling.backend.html_backend:Clashing formatting: 'bold=False italic=True underline=False strikethrough=False script=<Script.BASELINE: 'baseline'>' and 'bold=False italic=False underline=False strikethrough=False script=<Script.SUPER: 'super'>'! Chose 'bold=False italic=False underline=False strikethrough=False script=<Script.SUPER: 'super'>'\n",
            "WARNING:docling.backend.html_backend:Clashing formatting: 'bold=False italic=True underline=False strikethrough=False script=<Script.BASELINE: 'baseline'>' and 'bold=True italic=False underline=False strikethrough=False script=<Script.BASELINE: 'baseline'>'! Chose 'bold=True italic=False underline=False strikethrough=False script=<Script.BASELINE: 'baseline'>'\n",
            "WARNING:docling.backend.html_backend:Clashing formatting: 'bold=False italic=True underline=False strikethrough=False script=<Script.BASELINE: 'baseline'>' and 'bold=True italic=False underline=False strikethrough=False script=<Script.BASELINE: 'baseline'>'! Chose 'bold=True italic=False underline=False strikethrough=False script=<Script.BASELINE: 'baseline'>'\n",
            "WARNING:docling.backend.html_backend:Clashing formatting: 'bold=False italic=True underline=False strikethrough=False script=<Script.BASELINE: 'baseline'>' and 'bold=True italic=False underline=False strikethrough=False script=<Script.BASELINE: 'baseline'>'! Chose 'bold=True italic=False underline=False strikethrough=False script=<Script.BASELINE: 'baseline'>'\n",
            "WARNING:docling.backend.html_backend:Clashing formatting: 'bold=False italic=True underline=False strikethrough=False script=<Script.BASELINE: 'baseline'>' and 'bold=True italic=False underline=False strikethrough=False script=<Script.BASELINE: 'baseline'>'! Chose 'bold=True italic=False underline=False strikethrough=False script=<Script.BASELINE: 'baseline'>'\n"
          ]
        },
        {
          "output_type": "stream",
          "name": "stdout",
          "text": [
            "    Processed 1 chunks. Time: 0.70s\n",
            "--- Document 5/5: Microgravity validation of a novel system for RNA ...\n",
            "    Processed 1 chunks. Time: 0.79s\n",
            "\n",
            "--- Verification ---\n",
            "Total structured chunks ready for KG/Vector Store: 5\n",
            "\n",
            "Sample Chunk Content (First 200 chars): \n",
            "# Mice in Bion-M 1 Space Mission: Training and Selection\n",
            "\n",
            "[Alexander Andreev-Andrievskiy](https://pubmed.ncbi.nlm.nih.gov/?term=%22Andreev-Andrievskiy%20A%22%5BAuthor%5D)\n",
            "\n",
            "1, 2, * , [Anfisa Popova](ht...\n",
            "\n",
            "Sample Chunk Metadata:\n",
            "{'source': 'https://www.ncbi.nlm.nih.gov/pmc/articles/PMC4136787/', 'original_title': 'Mice in Bion-M 1 space mission: training and selection', 'source_url': 'https://www.ncbi.nlm.nih.gov/pmc/articles/PMC4136787/', 'doc_id': 'PMC_PMC4136787'}\n"
          ]
        }
      ]
    },
    {
      "cell_type": "markdown",
      "source": [
        "Output from test:\n",
        "\n",
        "✅ Extracted 607 valid PMC links from the CSV.\n",
        "/usr/local/lib/python3.12/dist-packages/huggingface_hub/utils/_auth.py:94: UserWarning:\n",
        "The secret `HF_TOKEN` does not exist in your Colab secrets.\n",
        "To authenticate with the Hugging Face Hub, create a token in your settings tab (https://huggingface.co/settings/tokens), set it as secret in your Google Colab and restart your session.\n",
        "You will be able to reuse this secret in all of your notebooks.\n",
        "Please note that authentication is recommended but still optional to access public models or datasets.\n",
        "  warnings.warn(\n",
        "tokenizer_config.json: 100%\n",
        " 350/350 [00:00<00:00, 17.9kB/s]\n",
        "vocab.txt:\n",
        " 232k/? [00:00<00:00, 12.7MB/s]\n",
        "tokenizer.json:\n",
        " 466k/? [00:00<00:00, 20.7MB/s]\n",
        "special_tokens_map.json: 100%\n",
        " 112/112 [00:00<00:00, 9.37kB/s]\n",
        "sentence_bert_config.json: 100%\n",
        " 53.0/53.0 [00:00<00:00, 5.59kB/s]\n",
        "\n",
        "Processing a sample of 5 documents using Docling...\n",
        "--- Document 1/5: Mice in Bion-M 1 space mission: training and selec...\n",
        "WARNING:docling.models.factories.base_factory:The plugin langchain_docling will not be loaded because Docling is being executed with allow_external_plugins=false.\n",
        "    ✅ Processed 1 chunks. Time: 2.49s\n",
        "--- Document 2/5: Microgravity induces pelvic bone loss through oste...\n",
        "    ✅ Processed 1 chunks. Time: 1.68s\n",
        "--- Document 3/5: Stem Cell Health and Tissue Regeneration in Microg...\n",
        "    ✅ Processed 1 chunks. Time: 1.59s\n",
        "--- Document 4/5: Microgravity Reduces the Differentiation and Regen...\n",
        "WARNING:docling.backend.html_backend:Clashing formatting: 'bold=True italic=False underline=False strikethrough=False script=<Script.BASELINE: 'baseline'>' and 'bold=False italic=True underline=False strikethrough=False script=<Script.BASELINE: 'baseline'>'! Chose 'bold=False italic=True underline=False strikethrough=False script=<Script.BASELINE: 'baseline'>'\n",
        "WARNING:docling.backend.html_backend:Clashing formatting: 'bold=True italic=False underline=False strikethrough=False script=<Script.BASELINE: 'baseline'>' and 'bold=False italic=True underline=False strikethrough=False script=<Script.BASELINE: 'baseline'>'! Chose 'bold=False italic=True underline=False strikethrough=False script=<Script.BASELINE: 'baseline'>'\n",
        "WARNING:docling.backend.html_backend:Clashing formatting: 'bold=True italic=False underline=False strikethrough=False script=<Script.BASELINE: 'baseline'>' and 'bold=False italic=True underline=False strikethrough=False script=<Script.BASELINE: 'baseline'>'! Chose 'bold=False italic=True underline=False strikethrough=False script=<Script.BASELINE: 'baseline'>'\n",
        "WARNING:docling.backend.html_backend:Clashing formatting: 'bold=False italic=True underline=False strikethrough=False script=<Script.BASELINE: 'baseline'>' and 'bold=True italic=False underline=False strikethrough=False script=<Script.BASELINE: 'baseline'>'! Chose 'bold=True italic=False underline=False strikethrough=False script=<Script.BASELINE: 'baseline'>'\n",
        "WARNING:docling.backend.html_backend:Clashing formatting: 'bold=True italic=False underline=False strikethrough=False script=<Script.BASELINE: 'baseline'>' and 'bold=False italic=True underline=False strikethrough=False script=<Script.BASELINE: 'baseline'>'! Chose 'bold=False italic=True underline=False strikethrough=False script=<Script.BASELINE: 'baseline'>'\n",
        "WARNING:docling.backend.html_backend:Clashing formatting: 'bold=True italic=False underline=False strikethrough=False script=<Script.BASELINE: 'baseline'>' and 'bold=False italic=True underline=False strikethrough=False script=<Script.BASELINE: 'baseline'>'! Chose 'bold=False italic=True underline=False strikethrough=False script=<Script.BASELINE: 'baseline'>'\n",
        "WARNING:docling.backend.html_backend:Clashing formatting: 'bold=True italic=False underline=False strikethrough=False script=<Script.BASELINE: 'baseline'>' and 'bold=False italic=True underline=False strikethrough=False script=<Script.BASELINE: 'baseline'>'! Chose 'bold=False italic=True underline=False strikethrough=False script=<Script.BASELINE: 'baseline'>'\n",
        "WARNING:docling.backend.html_backend:Clashing formatting: 'bold=True italic=False underline=False strikethrough=False script=<Script.BASELINE: 'baseline'>' and 'bold=False italic=False underline=False strikethrough=False script=<Script.SUPER: 'super'>'! Chose 'bold=False italic=False underline=False strikethrough=False script=<Script.SUPER: 'super'>'\n",
        "WARNING:docling.backend.html_backend:Clashing formatting: 'bold=True italic=False underline=False strikethrough=False script=<Script.BASELINE: 'baseline'>' and 'bold=False italic=False underline=False strikethrough=False script=<Script.SUPER: 'super'>'! Chose 'bold=False italic=False underline=False strikethrough=False script=<Script.SUPER: 'super'>'\n",
        "WARNING:docling.backend.html_backend:Clashing formatting: 'bold=False italic=True underline=False strikethrough=False script=<Script.BASELINE: 'baseline'>' and 'bold=False italic=False underline=False strikethrough=False script=<Script.SUPER: 'super'>'! Chose 'bold=False italic=False underline=False strikethrough=False script=<Script.SUPER: 'super'>'\n",
        "WARNING:docling.backend.html_backend:Clashing formatting: 'bold=False italic=True underline=False strikethrough=False script=<Script.BASELINE: 'baseline'>' and 'bold=False italic=False underline=False strikethrough=False script=<Script.SUPER: 'super'>'! Chose 'bold=False italic=False underline=False strikethrough=False script=<Script.SUPER: 'super'>'\n",
        "WARNING:docling.backend.html_backend:Clashing formatting: 'bold=False italic=True underline=False strikethrough=False script=<Script.BASELINE: 'baseline'>' and 'bold=False italic=False underline=False strikethrough=False script=<Script.SUPER: 'super'>'! Chose 'bold=False italic=False underline=False strikethrough=False script=<Script.SUPER: 'super'>'\n",
        "WARNING:docling.backend.html_backend:Clashing formatting: 'bold=False italic=True underline=False strikethrough=False script=<Script.BASELINE: 'baseline'>' and 'bold=True italic=False underline=False strikethrough=False script=<Script.BASELINE: 'baseline'>'! Chose 'bold=True italic=False underline=False strikethrough=False script=<Script.BASELINE: 'baseline'>'\n",
        "WARNING:docling.backend.html_backend:Clashing formatting: 'bold=False italic=True underline=False strikethrough=False script=<Script.BASELINE: 'baseline'>' and 'bold=True italic=False underline=False strikethrough=False script=<Script.BASELINE: 'baseline'>'! Chose 'bold=True italic=False underline=False strikethrough=False script=<Script.BASELINE: 'baseline'>'\n",
        "WARNING:docling.backend.html_backend:Clashing formatting: 'bold=False italic=True underline=False strikethrough=False script=<Script.BASELINE: 'baseline'>' and 'bold=True italic=False underline=False strikethrough=False script=<Script.BASELINE: 'baseline'>'! Chose 'bold=True italic=False underline=False strikethrough=False script=<Script.BASELINE: 'baseline'>'\n",
        "WARNING:docling.backend.html_backend:Clashing formatting: 'bold=False italic=True underline=False strikethrough=False script=<Script.BASELINE: 'baseline'>' and 'bold=True italic=False underline=False strikethrough=False script=<Script.BASELINE: 'baseline'>'! Chose 'bold=True italic=False underline=False strikethrough=False script=<Script.BASELINE: 'baseline'>'\n",
        "    ✅ Processed 1 chunks. Time: 1.23s\n",
        "--- Document 5/5: Microgravity validation of a novel system for RNA ...\n",
        "    ✅ Processed 1 chunks. Time: 1.51s\n",
        "\n",
        "--- Verification ---\n",
        "Total structured chunks ready for KG/Vector Store: 5\n",
        "\n",
        "Sample Chunk Content (First 200 chars):\n",
        "# Mice in Bion-M 1 Space Mission: Training and Selection\n",
        "\n",
        "[Alexander Andreev-Andrievskiy](https://pubmed.ncbi.nlm.nih.gov/?term=%22Andreev-Andrievskiy%20A%22%5BAuthor%5D)\n",
        "\n",
        "1, 2, * , [Anfisa Popova](ht...\n",
        "\n",
        "Sample Chunk Metadata:\n",
        "{'source': 'https://www.ncbi.nlm.nih.gov/pmc/articles/PMC4136787/', 'original_title': 'Mice in Bion-M 1 space mission: training and selection', 'source_url': 'https://www.ncbi.nlm.nih.gov/pmc/articles/PMC4136787/', 'doc_id': 'PMC_PMC4136787'}"
      ],
      "metadata": {
        "id": "zS8GxyY1W7Mf"
      }
    },
    {
      "cell_type": "code",
      "source": [],
      "metadata": {
        "id": "e_4O8iI_FYkr"
      },
      "execution_count": 13,
      "outputs": []
    }
  ],
  "metadata": {
    "colab": {
      "provenance": [],
      "gpuType": "T4",
      "include_colab_link": true
    },
    "kernelspec": {
      "display_name": "Python 3",
      "name": "python3"
    },
    "accelerator": "GPU"
  },
  "nbformat": 4,
  "nbformat_minor": 0
}